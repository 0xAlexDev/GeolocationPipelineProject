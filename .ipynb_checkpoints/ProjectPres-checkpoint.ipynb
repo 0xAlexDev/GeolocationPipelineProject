{
 "cells": [
  {
   "cell_type": "markdown",
   "id": "a72f7c89",
   "metadata": {
    "slideshow": {
     "slide_type": "slide"
    }
   },
   "source": [
    "\n",
    " <img  src=\"Res\\city-map.webp\" width=\"120\" style=\"float: left; padding-right:10px\"/>\n",
    " \n",
    "# *Tecnologie Per La Programmazione Avanzata: Geolocalizzazione e classificazione realtime.*\n"
   ]
  },
  {
   "cell_type": "markdown",
   "id": "53c37bbf",
   "metadata": {
    "slideshow": {
     "slide_type": "slide"
    }
   },
   "source": [
    "### *Concept Iniziale*"
   ]
  },
  {
   "cell_type": "markdown",
   "id": "84af0d8a",
   "metadata": {
    "slideshow": {
     "slide_type": "subslide"
    }
   },
   "source": [
    "Il progetto scelto a completamento del percorso svolto verte all'utilizzo delle tecnologie studiate al fine di creare una **Pipeline Realtime** per la geolocalizzazione di utenti in alcune specifiche zone d'interesse nella città di Catania e la classificazione di questi ultimi in base a dei loro attributi fisici.\n",
    "Le zone d'interesse scelte sono le seguenti:\n",
    "\n",
    "1. Aeroporto di Catania-Fontanarossa\n",
    "2. Stazione Centrale di Catania\n",
    "3. Giardino Bellini\n",
    "4. Piazza Giovanni Verga\n",
    "5. Piazza Europa\n",
    "6. San Giovanni Li Cuti\n",
    "7. Centro Storico di Catania"
   ]
  },
  {
   "cell_type": "markdown",
   "id": "41b73442",
   "metadata": {
    "slideshow": {
     "slide_type": "slide"
    }
   },
   "source": [
    "### *Tecnologie Utilizzate*"
   ]
  },
  {
   "cell_type": "markdown",
   "id": "b7078322",
   "metadata": {
    "slideshow": {
     "slide_type": "subslide"
    }
   },
   "source": [
    "<img  src=\"Res\\nodejs-grande.jpg\" width=\"200\" style=\"float: left\"/>"
   ]
  },
  {
   "cell_type": "markdown",
   "id": "21759299",
   "metadata": {
    "slideshow": {
     "slide_type": "subslide"
    }
   },
   "source": [
    "La prima tecnologia utilizzata per comporre la pipeline è **Node.js**, esso è un  framework JavaScript basato sullo JavaScript Engine V8, che ci permette di creare un ambiente runtime che possa eseguire del codice JavaScript slegandoci dal browser nella sua tipica concezione client-side.\n",
    "Con questa tecnologia è stato creato un server che identifica la nostra sorgente, il cui compito è quello di generare dati la cui struttura è basata su quella offerta dai provider noti per l'acquisizione di dati geografici.\n",
    "Esso espone delle API per l'acquisizione dei dati generati in formato JSON.\n",
    "La scelta della creazione di un server custom per l'acquisizione di dati è legata alle restrizioni imposte dai principali provider per l'utilizzo dei loro servizi personali."
   ]
  },
  {
   "cell_type": "markdown",
   "id": "e3157a6e",
   "metadata": {
    "slideshow": {
     "slide_type": "slide"
    }
   },
   "source": [
    "<img  src=\"Res\\logstash.jpg\" width=\"190\" style=\"float: left\"/>"
   ]
  },
  {
   "cell_type": "markdown",
   "id": "69b7d295",
   "metadata": {
    "slideshow": {
     "slide_type": "subslide"
    }
   },
   "source": [
    "La seconda tecnologia utilizzata per la fase di **data ingestion** è **Logstash**, tramite essa con l'ausilio in input del plug-in *logstash-input-http_poller* ed in output del plug-in *logstash-integration-kafka*, vengono acquisiti dati dalla sorgente ad intervalli imposti in fase di configurazione ed inseriti opportunamente all'interno di una coda *Kafka*."
   ]
  },
  {
   "cell_type": "markdown",
   "id": "3d2d0c50",
   "metadata": {
    "slideshow": {
     "slide_type": "slide"
    }
   },
   "source": [
    "<img  src=\"Res\\kafka.png\" width=\"200\" style=\"float: left\"/>"
   ]
  },
  {
   "cell_type": "markdown",
   "id": "08a77fbb",
   "metadata": {
    "slideshow": {
     "slide_type": "subslide"
    }
   },
   "source": [
    "La terza tecnologia utilizza è **Apache Kafka**, essa è una piattaforma di messaggistica open-source di natura publish-subscribe per la gestione dello streaming di dati in tempo reale e lo storage temporaneo di essi.\n",
    "Le sue prorprietà di scalabilità ed efficienza la rendono una tecnologia ideale per la costruzione di una pipeline, per questi motivi essa verrà utilizzata come destinazione da parte di Logstash che inserirà dati al suo interno in un topic ben definito in fase di configurazione.\n",
    "I dati inseriti nella coda verranno successivamente consumati da *Apache Spark* che gode di un'ottima integrazione con *Kafka*, per la fase di elaborazione della nostra pipeline."
   ]
  },
  {
   "cell_type": "markdown",
   "id": "01ac933b",
   "metadata": {
    "slideshow": {
     "slide_type": "slide"
    }
   },
   "source": [
    "<img  src=\"Res\\sparks.jpg\" width=\"230\" style=\"float: left\"/>"
   ]
  },
  {
   "cell_type": "markdown",
   "id": "1751a7c9",
   "metadata": {
    "slideshow": {
     "slide_type": "subslide"
    }
   },
   "source": [
    "La quarta tecnologia utilizzata è **Apache Spark**, essa è un sistema di elaborazione distribuito utilizzato in genere con grandi carichi di lavoro.\n",
    "Grazie alle tecniche di ottimizzazione utilizzate esso permette elevate prestazioni che risultano indispensabili per la fase di elaborazione dati di una pipeline realtime.\n",
    "Tramite *Spark* verranno effettuate diverse operazioni:\n",
    "\n",
    "1. Creazione della connessione con la coda Kafka al topic designato.\n",
    "2. Creazione della connessione con Elasticsearch e creazione degli indici per la successiva scrittura.\n",
    "3. Lettura di dati dalla coda Kafka e creazione di Spark Dataframe.\n",
    "5. Filtraggio dei soli dati appartenenti alle zone d'interesse.\n",
    "4. Gestione dei dati e applicazione di Algoritmi di Clustering K-means per la classificazione.\n",
    "5. Gestione della struttura dei dati per la successiva visualizzazione attraverso Elasticsearch e Kibana.\n",
    "6. Scrittura dei dati su Elasticsearch tramite l'utilizzo degli indici opportunamente creati.\n",
    "\n",
    "Le operazioni 3,4,5 verranno effettuate costantemente sui dati inseriti all'interno di Kafka, questo garantirà un'elaborazione continua sui dati raccolti e offerti dai precedenti punti della nostra pipeline."
   ]
  },
  {
   "cell_type": "markdown",
   "id": "ca58b879",
   "metadata": {
    "slideshow": {
     "slide_type": "slide"
    }
   },
   "source": [
    "<img  src=\"Res\\elasticsearch.png\" width=\"230\" style=\"float: left\"/>"
   ]
  },
  {
   "cell_type": "markdown",
   "id": "cd7b5d1c",
   "metadata": {
    "slideshow": {
     "slide_type": "subslide"
    }
   },
   "source": [
    "La quinta tecnologia utilizzata è **Elasticsearch**, essa è una tecnologia per la ricerca e l'analisi distribuita di dati, attraverso delle tecniche di indicizzazione, Elasticsearch permette l'archiviazione di documenti JSON successivamente recuperabili attraverso una referenza da esso aggiunta.\n",
    "Elasticsearch offre insieme a *Kibana* una soluzione ottima per lo storage di documenti JSON e la loro successiva visualizzazione attraverso pannelli di controllo interattivi.\n",
    "Gli indici utilizzati per l'archiviazione dei documenti JSON sono diversi, essi dividono i dati geografici da quelli inerenti alla classificazione, entrambi divisi opportunamente per zone d'interesse."
   ]
  },
  {
   "cell_type": "markdown",
   "id": "8eb543e6",
   "metadata": {
    "slideshow": {
     "slide_type": "slide"
    }
   },
   "source": [
    "<img  src=\"Res\\kibanas.png\" width=\"190\" style=\"float: left\"/>"
   ]
  },
  {
   "cell_type": "markdown",
   "id": "da8ba593",
   "metadata": {
    "slideshow": {
     "slide_type": "subslide"
    }
   },
   "source": [
    "La sesta tecnologia utilizzata è **Kibana**, essa è una piattaforma web per la presentazione visiva dei dati raccolti attraverso la nostra pipeline, lavora a stretto contatto con Elasticsearch ed insieme a Logstash forma il cosiddetto **Stack ELK**.\n",
    "Grazie a Kibana avremo l'opportunità di creare una Dashboard per la visualizzazione dei dati geografici attraverso una mappa interattiva che evidenzierà lo stato attuale delle zone d'interesse scelte.\n",
    "Inoltre visualizzeremo il risultato della classificazione effettuata da Spark in fase di elaborazione, che ci permetterà di osservare la presenza ed il rapproto tra uomini e donne presenti nelle zone indicate."
   ]
  },
  {
   "cell_type": "markdown",
   "id": "60904e17",
   "metadata": {
    "slideshow": {
     "slide_type": "subslide"
    }
   },
   "source": [
    "<img  src=\"Res\\locationlist.png\" width=\"400\" style=\"float: left\"/>"
   ]
  },
  {
   "cell_type": "markdown",
   "id": "864bbe2f",
   "metadata": {
    "slideshow": {
     "slide_type": "subslide"
    }
   },
   "source": [
    "<img  src=\"Res\\maps.png\" width=\"100%\" style=\"float: left\"/>\n"
   ]
  },
  {
   "cell_type": "markdown",
   "id": "b42e3a39",
   "metadata": {
    "slideshow": {
     "slide_type": "subslide"
    }
   },
   "source": [
    "<img  src=\"Res\\dataclass.png\" width=\"100%\" style=\"float: left\"/>"
   ]
  },
  {
   "cell_type": "markdown",
   "id": "d4e77983",
   "metadata": {
    "slideshow": {
     "slide_type": "slide"
    }
   },
   "source": [
    "### *Possibili Applicazioni*\n"
   ]
  },
  {
   "cell_type": "markdown",
   "id": "ec70b48a",
   "metadata": {
    "slideshow": {
     "slide_type": "subslide"
    }
   },
   "source": [
    "L'idea di base del progetto presentato vuole includere la possibilità di geolocalizzare gli utenti e stimare in base ai loro dati fisici (attualmente i parametri considerati sono *Altezza* e *Peso*) la presenza e la quantità di uomini e donne in una specifica area.\n",
    "Una delle possibili applicazioni potrebbe essere la possibilità di stimare le aree geografiche di una città più frequentate per svolgere attività a carattere sportivo o in seguito a eventi specifici, la possibilità di reperire dati fisici come *Altezza*,*Peso* ed altri affini potrebbe essere demandata all'integrazione con un *Fitness Smartwatches* che negli anni è diventato sempre più un insostituibile compagno per tutte le principali attività sportive svolte.\n",
    "La capacità di poter elaborare la Geolocalizzazione di svariate persone in realtime lascia comunque una applicabilità ampia e varia che attravero differenti criteri di analisi dei dati può portare all'arricchiamento di ogni applicazione laddove ce ne sia la possibilità."
   ]
  },
  {
   "cell_type": "markdown",
   "id": "6b35280f",
   "metadata": {
    "slideshow": {
     "slide_type": "subslide"
    }
   },
   "source": [
    "#### Docente: Prof. Salvatore Nicotra\n",
    "#### Studente: Alessio Dinatale \n",
    "#### Matricola: X81000589"
   ]
  }
 ],
 "metadata": {
  "celltoolbar": "Slideshow",
  "kernelspec": {
   "display_name": "Python 3 (ipykernel)",
   "language": "python",
   "name": "python3"
  },
  "language_info": {
   "codemirror_mode": {
    "name": "ipython",
    "version": 3
   },
   "file_extension": ".py",
   "mimetype": "text/x-python",
   "name": "python",
   "nbconvert_exporter": "python",
   "pygments_lexer": "ipython3",
   "version": "3.10.5"
  }
 },
 "nbformat": 4,
 "nbformat_minor": 5
}
